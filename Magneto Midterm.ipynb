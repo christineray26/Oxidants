{
 "cells": [
  {
   "cell_type": "code",
   "execution_count": 43,
   "metadata": {},
   "outputs": [],
   "source": [
    "import numpy as np\n",
    "import matplotlib.pyplot as plt"
   ]
  },
  {
   "cell_type": "code",
   "execution_count": 13,
   "metadata": {},
   "outputs": [],
   "source": [
    "R_E = 6371e5 #cm\n",
    "A = (np.pi*2*((R_E)**2)*0.061) #area, cm^2"
   ]
  },
  {
   "cell_type": "code",
   "execution_count": 14,
   "metadata": {},
   "outputs": [
    {
     "name": "stdout",
     "output_type": "stream",
     "text": [
      "2.6882437927533478e+29\n",
      "1.0752975171013392e+31\n"
     ]
    }
   ],
   "source": [
    "loss_l = 0.2e8*A*3600*24\n",
    "loss_u = 8e8*A*3600*24 #ions/cm^2/s*cm^2 = ions/s\n",
    "print(loss_l)\n",
    "print(loss_u) #ions/day"
   ]
  },
  {
   "cell_type": "code",
   "execution_count": 15,
   "metadata": {},
   "outputs": [
    {
     "name": "stdout",
     "output_type": "stream",
     "text": [
      "7142014.68619409\n",
      "285680587.4477636\n"
     ]
    }
   ],
   "source": [
    "N_A = 6.022e23\n",
    "massloss_l = (loss_l*15.999)/N_A\n",
    "massloss_u = (loss_u*15.999)/N_A\n",
    "print(massloss_l)\n",
    "print(massloss_u)"
   ]
  },
  {
   "cell_type": "code",
   "execution_count": 21,
   "metadata": {},
   "outputs": [
    {
     "name": "stdout",
     "output_type": "stream",
     "text": [
      "2.637400971942388e+26\n"
     ]
    },
    {
     "data": {
      "text/plain": [
       "2.6e+20"
      ]
     },
     "execution_count": 21,
     "metadata": {},
     "output_type": "execute_result"
    }
   ],
   "source": [
    "f_O2 = 0.21 #by volume\n",
    "t_atm = 480 * 1e5 #km -> cm\n",
    "V_atm = (4/3)*np.pi*(((R_E+t_atm)**3)-(R_E**3))\n",
    "print(V_atm)\n",
    "#V_O2 = \n",
    "(2.6e26)/(100**3)"
   ]
  },
  {
   "cell_type": "code",
   "execution_count": 29,
   "metadata": {},
   "outputs": [
    {
     "name": "stdout",
     "output_type": "stream",
     "text": [
      "1.189188e+21\n",
      "6.005791082817931e-13\n",
      "2.402316433127173e-11\n"
     ]
    }
   ],
   "source": [
    "f_O2 = 0.231 #by mass \n",
    "M_atm = 5.1480e18 #kg\n",
    "M_O2 = f_O2 * M_atm * 1000 #grams\n",
    "print(M_O2)\n",
    "print(massloss_l*100/M_O2)\n",
    "print(massloss_u*100/M_O2)"
   ]
  },
  {
   "cell_type": "code",
   "execution_count": 33,
   "metadata": {},
   "outputs": [
    {
     "name": "stdout",
     "output_type": "stream",
     "text": [
      "3.72590439117369e+22\n",
      "0.989882835509596\n"
     ]
    }
   ],
   "source": [
    "#used by a human:\n",
    "N_O2 = (101325*0.21*7.5*0.001)/(1.381e-23*310.15)\n",
    "print(N_O2)\n",
    "m_O2 = (N_O2/N_A)*(15.999)\n",
    "print(m_O2)"
   ]
  },
  {
   "cell_type": "code",
   "execution_count": 34,
   "metadata": {},
   "outputs": [
    {
     "data": {
      "text/plain": [
       "7424121266.32197"
      ]
     },
     "execution_count": 34,
     "metadata": {},
     "output_type": "execute_result"
    }
   ],
   "source": [
    "m_O2*7.5e9"
   ]
  },
  {
   "cell_type": "code",
   "execution_count": 40,
   "metadata": {},
   "outputs": [
    {
     "name": "stdout",
     "output_type": "stream",
     "text": [
      "0.16666666666666666\n",
      "3.252246528166234\n"
     ]
    }
   ],
   "source": [
    "#Question 2:\n",
    "print(10/(0.1*10*60))\n",
    "print(22 * (0.6 * (np.pi/180)**2) * 0.14 * 0.33 * 0.22 * (1e6/(4*np.pi)))"
   ]
  },
  {
   "cell_type": "code",
   "execution_count": 51,
   "metadata": {},
   "outputs": [
    {
     "name": "stdout",
     "output_type": "stream",
     "text": [
      "8.10410801593\n"
     ]
    }
   ],
   "source": [
    "#Question 1: Calculating UTC:\n",
    "B = (360/365)*(355-81)\n",
    "EoT = 9.87*np.sin(2*B)-7.53*np.cos(B)-1.5*np.sin(B)\n",
    "LT = 8-(EoT/60)\n",
    "print(LT)"
   ]
  },
  {
   "cell_type": "code",
   "execution_count": 52,
   "metadata": {},
   "outputs": [
    {
     "data": {
      "text/plain": [
       "0.31357792411414237"
      ]
     },
     "execution_count": 52,
     "metadata": {},
     "output_type": "execute_result"
    }
   ],
   "source": [
    "#Part B\n",
    "2*1e7/(10*6378*1e3)"
   ]
  },
  {
   "cell_type": "code",
   "execution_count": 53,
   "metadata": {},
   "outputs": [
    {
     "name": "stdout",
     "output_type": "stream",
     "text": [
      "0.036\n"
     ]
    }
   ],
   "source": [
    "#Part c - Calculate the E field with conductivities:\n",
    "E_0 = 0.3 #mV/m\n",
    "E1 = ((E_0*10*2e-7)-(E_0*2e-7))/(10*1.5e-6)\n",
    "print(E1)"
   ]
  },
  {
   "cell_type": "code",
   "execution_count": 54,
   "metadata": {},
   "outputs": [
    {
     "data": {
      "text/plain": [
       "5.8534545834639904e-15"
      ]
     },
     "execution_count": 54,
     "metadata": {},
     "output_type": "execute_result"
    }
   ],
   "source": [
    "#Question 5:\n",
    "(56e-9)/(1.5*6378*1000)"
   ]
  },
  {
   "cell_type": "code",
   "execution_count": 55,
   "metadata": {},
   "outputs": [
    {
     "data": {
      "text/plain": [
       "4.695070821210912e-09"
      ]
     },
     "execution_count": 55,
     "metadata": {},
     "output_type": "execute_result"
    }
   ],
   "source": [
    "(5.9e-15)/(4*np.pi*1e-7)"
   ]
  },
  {
   "cell_type": "code",
   "execution_count": 56,
   "metadata": {},
   "outputs": [
    {
     "data": {
      "text/plain": [
       "1.5666666666666665e-14"
      ]
     },
     "execution_count": 56,
     "metadata": {},
     "output_type": "execute_result"
    }
   ],
   "source": [
    "(4.7e-9)/(0.3*100**3)"
   ]
  },
  {
   "cell_type": "code",
   "execution_count": 58,
   "metadata": {},
   "outputs": [
    {
     "data": {
      "text/plain": [
       "618503.29341800441"
      ]
     },
     "execution_count": 58,
     "metadata": {},
     "output_type": "execute_result"
    }
   ],
   "source": [
    "np.sqrt((4000*1.6e-19)/(1.673e-27))"
   ]
  },
  {
   "cell_type": "code",
   "execution_count": null,
   "metadata": {},
   "outputs": [],
   "source": []
  }
 ],
 "metadata": {
  "kernelspec": {
   "display_name": "Python 3",
   "language": "python",
   "name": "python3"
  },
  "language_info": {
   "codemirror_mode": {
    "name": "ipython",
    "version": 3
   },
   "file_extension": ".py",
   "mimetype": "text/x-python",
   "name": "python",
   "nbconvert_exporter": "python",
   "pygments_lexer": "ipython3",
   "version": "3.6.3"
  }
 },
 "nbformat": 4,
 "nbformat_minor": 2
}
