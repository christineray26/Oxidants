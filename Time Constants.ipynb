{
 "cells": [
  {
   "cell_type": "code",
   "execution_count": 1,
   "metadata": {},
   "outputs": [],
   "source": [
    "import numpy as np\n",
    "import matplotlib.pyplot as plt\n",
    "import scipy.integrate as integrate\n",
    "plt.rcParams['axes.titlesize'] = 25  \n",
    "plt.rcParams['axes.labelsize'] = 23  \n",
    "plt.rcParams['xtick.labelsize'] = 16\n",
    "plt.rcParams['ytick.labelsize'] = 16\n",
    "plt.rcParams['axes.titlepad'] = 20 \n",
    "plt.rcParams['axes.labelpad'] = 6 "
   ]
  },
  {
   "cell_type": "code",
   "execution_count": 10,
   "metadata": {},
   "outputs": [],
   "source": [
    "pH = np.array([9, 11])\n",
    "pOH = 14 - pH #should actually be ~14.7 for 0 degrees\n",
    "OH = 10.0**(-pOH)\n",
    "\n",
    "I = 0.1\n",
    "T = 278\n",
    "#tau = residence time, O2 divided by rate, time to decrease concentration by a factor of 1/e"
   ]
  },
  {
   "cell_type": "code",
   "execution_count": 23,
   "metadata": {},
   "outputs": [
    {
     "data": {
      "text/plain": [
       "array([  4.13610449e-05,   2.00981726e-03])"
      ]
     },
     "execution_count": 23,
     "metadata": {},
     "output_type": "execute_result"
    }
   ],
   "source": [
    "###Reaction 1: 4Fe(II) + O2 + 4H+ = 4Fe(III) + 2H2O###\n",
    "#t_O2 = 4/(k * Fe * OH^2)\n",
    "\n",
    "log_k1 = 21.56 - (1545/T) - 3.29*np.sqrt(I) + 1.52*I #from eqn 31 in Millero 1986\n",
    "k1 = (10**log_k1)*(60*24*365) \n",
    "\n",
    "#Fe1 = np.arange(-13.0, -5.0, 0.1) #molar \n",
    "Fe_9 = np.array([1.415*10**-6, 2.912*10**-8])\n",
    "Fe_11 = np.array([1.374*10**-9, 1.323*10**-12])\n",
    "\n",
    "\n",
    "#Calculate t_O2 for each pH (seconds?)\n",
    "N = len(Fe1)\n",
    "#t_O2 in minutes/ 60 / 24 to days\n",
    "t1_O29 = (4.0/(k1 * Fe_9 * OH[0]**2))#/(60*24*365)\n",
    "t1_O211 = (4.0/(k1 * Fe_11 * OH[1]**2))#/(60*24*365)\n",
    "t1_O29"
   ]
  },
  {
   "cell_type": "code",
   "execution_count": null,
   "metadata": {},
   "outputs": [],
   "source": [
    "#Pl2ot O2 consumption time as a function of iron concentration\n",
    "fig1 = plt.figure(1)\n",
    "fig1.set_figheight(7)\n",
    "fig1.set_figwidth(12)\n",
    "plt.subplots_adjust(left=0.1, bottom=None, right=0.82, top=None, wspace=None, hspace=None)\n",
    "plt.clf()\n",
    "#plt.grid()\n",
    "plt.plot(np.log10(Fe_9), np.log10(t1_O29), label = 'pH = 9.0')\n",
    "plt.plot(np.log10(Fe_11), np.log10(t1_O211), label = 'pH = 11.0')\n",
    "#Plot horizontal lines for time labels\n",
    "plt.xlabel('log[[Fe$^{2+}$](M)]')\n",
    "plt.ylabel(r'log[$\\tau_{O2}$ (minutes)]')\n",
    "plt.xlim(-13.0, -5.0)\n",
    "plt.ylim(-5,0)\n",
    "plt.title(r'Time Required to Reduce [$O_{2}$] by $\\frac{1}{e}$')\n",
    "plt.legend(bbox_to_anchor=(0.3,0.35), prop={'size': 17})\n",
    "plt.grid()\n",
    "#plt.show()\n",
    "plt.savefig('time_iron')"
   ]
  },
  {
   "cell_type": "code",
   "execution_count": null,
   "metadata": {},
   "outputs": [],
   "source": [
    "###Reaction 2: H2S + 2O2 = SO4 + 2H+ ###\n",
    "#t_O2 = 1/2k[H2S]\n",
    "\n",
    "log_k2 = 11.78 - ((3*10**3)/T) + 0.44*np.sqrt(I) #from eqn 13 in Millero 1987\n",
    "k2 = (10**log_k2)*(60*24*365)\n",
    "\n",
    "#H2S = np.arange(-7.0, -3, 0.1) #molar \n",
    "HS_9 = np.array([3.090*10**-6, 3.535*10**-5])\n",
    "HS_11 = np.array([3.082*10**-6, 1.753*10**-4])\n",
    "\n",
    "N = len(H2S)\n",
    "\n",
    "t2_O29 = 1.0/(2.0 * k2 * HS_9)\n",
    "t2_O211 = 1.0/(2.0 * k2 * HS_11)\n",
    "\n",
    "print(np.log10(t2_O29))\n",
    "print(np.log10(t2_O211))"
   ]
  },
  {
   "cell_type": "code",
   "execution_count": null,
   "metadata": {},
   "outputs": [],
   "source": [
    "fig2 = plt.figure(2)\n",
    "fig2.set_figheight(7)\n",
    "fig2.set_figwidth(12)\n",
    "plt.subplots_adjust(left=0.1, bottom=None, right=0.82, top=None, wspace=None, hspace=None)\n",
    "plt.clf()\n",
    "#plt.grid()\n",
    "plt.plot(np.log10(HS_9), np.log10(t2_O29), label = 'pH = 9.0', marker = '.', markersize = 9)\n",
    "plt.plot(np.log10(HS_11), np.log10(t2_O211), label = 'pH = 11.0')\n",
    "#plt.plot(H2S, np.log10(t2_O2[4]), label = 'pH = 12.0')\n",
    "#Plot horizontal lines for time labels\n",
    "# plt.plot([-9, -3], [np.log10(60), np.log10(60)], 'k--')\n",
    "# plt.text(-3.8, 2.1,'1 Hour', fontsize = 15 )\n",
    "# plt.plot([-9, -3], [np.log10(60*24*365), np.log10(60*24*365)], 'k--')\n",
    "# plt.text(-3.8, 6.1,'1 Year', fontsize = 15 )\n",
    "plt.xlabel('log[[$H_{2}S$](M)]')\n",
    "plt.ylabel(r'log[$\\tau_{O2}$ (minutes)]')\n",
    "plt.xlim(-6.0, -3.0)\n",
    "plt.ylim(-3.5,-1.5)\n",
    "plt.title(r'Time Required to Reduce [$O_{2}$] by $\\frac{1}{e}$')\n",
    "plt.legend(bbox_to_anchor=(0.3,0.35), prop={'size': 17})\n",
    "plt.grid()\n",
    "#plt.show()\n",
    "plt.savefig('time_H2S')"
   ]
  },
  {
   "cell_type": "code",
   "execution_count": null,
   "metadata": {},
   "outputs": [],
   "source": []
  }
 ],
 "metadata": {
  "kernelspec": {
   "display_name": "Python 3",
   "language": "python",
   "name": "python3"
  },
  "language_info": {
   "codemirror_mode": {
    "name": "ipython",
    "version": 3
   },
   "file_extension": ".py",
   "mimetype": "text/x-python",
   "name": "python",
   "nbconvert_exporter": "python",
   "pygments_lexer": "ipython3",
   "version": "3.6.3"
  }
 },
 "nbformat": 4,
 "nbformat_minor": 2
}
