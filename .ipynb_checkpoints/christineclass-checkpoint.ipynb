{
 "cells": [
  {
   "cell_type": "code",
   "execution_count": 1,
   "metadata": {
    "collapsed": true
   },
   "outputs": [],
   "source": [
    "import numpy as np"
   ]
  },
  {
   "cell_type": "code",
   "execution_count": 53,
   "metadata": {},
   "outputs": [],
   "source": [
    "class Christine:\n",
    "    \n",
    "    #christine.X are attributes\n",
    "    hair = 'Blonde' #since this is outside __init__, all instances of christine have blonde hair\n",
    "\n",
    "    def __init__(self, mood, age): #set attrubites that are unique to each insance (self) in the init method \n",
    "        self.mood = mood\n",
    "        self.age = age\n",
    "        \n",
    "    #methods are functions inside classes\n",
    "    def calcBankAccountBalance(self):\n",
    "        return 'Christine has ' + str(self.age**2.8) +  ' dollars'   "
   ]
  },
  {
   "cell_type": "code",
   "execution_count": 54,
   "metadata": {},
   "outputs": [
    {
     "name": "stdout",
     "output_type": "stream",
     "text": [
      "Blonde\n",
      "25 happy\n",
      "Christine has 8207.89938876 dollars\n"
     ]
    }
   ],
   "source": [
    "#create one instance of christine...a chrstine object! She is 25 and happy!\n",
    "christine1 = Christine('happy',25)\n",
    "\n",
    "#all christines have Blonde hair attribute\n",
    "print christine1.hair\n",
    "\n",
    "#this christine is 25 and happy \n",
    "print christine1.age, christine1.mood\n",
    "\n",
    "#how much money does she have? call the calculate bank account balance method!\n",
    "print christine1.calcBankAccountBalance()\n"
   ]
  },
  {
   "cell_type": "code",
   "execution_count": 55,
   "metadata": {},
   "outputs": [
    {
     "name": "stdout",
     "output_type": "stream",
     "text": [
      "Blonde\n",
      "50\n",
      "Christine has 57163.1314909 dollars\n"
     ]
    }
   ],
   "source": [
    "#another christine...this time she is 50 and sad\n",
    "christine1 = Christine('sad',50)\n",
    "\n",
    "#all christines have Blonde hair attribute\n",
    "print christine1.hair\n",
    "\n",
    "#this christine is 50 and sad\n",
    "print christine1.age\n",
    "\n",
    "#how much money does she have? call the calculate bank account balance method!\n",
    "print christine1.calcBankAccountBalance()"
   ]
  },
  {
   "cell_type": "code",
   "execution_count": null,
   "metadata": {},
   "outputs": [],
   "source": []
  },
  {
   "cell_type": "code",
   "execution_count": null,
   "metadata": {
    "collapsed": true
   },
   "outputs": [],
   "source": []
  }
 ],
 "metadata": {
  "kernelspec": {
   "display_name": "Python 2",
   "language": "python",
   "name": "python2"
  },
  "language_info": {
   "codemirror_mode": {
    "name": "ipython",
    "version": 2
   },
   "file_extension": ".py",
   "mimetype": "text/x-python",
   "name": "python",
   "nbconvert_exporter": "python",
   "pygments_lexer": "ipython2",
   "version": "2.7.13"
  }
 },
 "nbformat": 4,
 "nbformat_minor": 2
}
