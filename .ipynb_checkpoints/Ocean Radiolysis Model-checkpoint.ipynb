{
 "cells": [
  {
   "cell_type": "code",
   "execution_count": 1,
   "metadata": {},
   "outputs": [],
   "source": [
    "import numpy as np\n",
    "import matplotlib.pyplot as plt\n",
    "import scipy.integrate as integrate\n",
    "from scipy.integrate import odeint\n",
    "import time\n",
    "from IPython import display\n",
    "from matplotlib.patches import Patch\n",
    "from matplotlib.lines import Line2D\n",
    "plt.rcParams['axes.titlesize'] = 22\n",
    "plt.rcParams['axes.labelsize'] = 20  \n",
    "plt.rcParams['xtick.labelsize'] = 18\n",
    "plt.rcParams['ytick.labelsize'] = 18\n",
    "plt.rcParams['axes.titlepad'] = 40 \n",
    "plt.rcParams['axes.labelpad'] = 16 "
   ]
  },
  {
   "cell_type": "code",
   "execution_count": 16,
   "metadata": {},
   "outputs": [],
   "source": [
    "# #Calculate ocean mass\n",
    "R_enc = 252 #km\n",
    "A_enc = 4*np.pi*(R_enc*1000)**2 #m^2\n",
    "V_enc = (4/3)*np.pi*R_enc**3\n",
    "V_ocean = 0.4*V_enc #km^3\n",
    "rho_ocean = 1030 #kg m^3\n",
    "M_ocean = (V_ocean * 1000**3) * rho_ocean"
   ]
  },
  {
   "cell_type": "code",
   "execution_count": 17,
   "metadata": {},
   "outputs": [
    {
     "data": {
      "text/plain": [
       "2.7617696180897518e+19"
      ]
     },
     "execution_count": 17,
     "metadata": {},
     "output_type": "execute_result"
    }
   ],
   "source": [
    "M_ocean"
   ]
  },
  {
   "cell_type": "code",
   "execution_count": 11,
   "metadata": {},
   "outputs": [],
   "source": [
    "#Rate constants:\n",
    "k = np.array([6e9,2.5e10,2.5e10,7.9e9,1e10,2.7e7,7.5e9,4e7,3e9,2e10,1.2e10,1.6e10,2.2e10,2e10,1e10,2e10,2e10,6e7,1.5e7,2e10,8e5,7.5e5,1e8,5e10,5e8,5.735e4,2.599e-5,1.4385e11])\n",
    "#other constants:  H+, OH-\n",
    "pH = 8.0\n",
    "H_plus = 10**-pH\n",
    "OH_minus = 10**-(14.0-pH)\n",
    "c = np.array([H_plus,OH_minus])\n",
    "\n",
    "#Functions y are: 0) OH radical, 1) e_aq, 2) H radical, 3) HO2 radical, 4) O2-, 5) H2O2, 6) HO2-, 7) H2, 8) O2\n",
    "def f(t,y,k,c):\n",
    "    dydt = [(-k[0]*y[0]**2 - k[1]*y[0]*y[1] - k[2]*y[0]*y[2] - k[3]*y[0]*y[3] - k[4]*y[0]*y[4] - k[5]*y[0]*y[5] - k[6]*y[0]*y[6] - k[7]*y[0]*y[7] + k[11]*y[1]*y[5] + k[17]*y[2]*y[5] + k[25]*y[6]),\n",
    "            (-k[1]*y[0]*y[1] - k[8]*y[1]**2 - k[9]*y[1]*y[2] - k[10]*y[1]*y[4] - k[11]*y[1]*y[5] - k[12]*y[1]*c[0] - k[13]*y[1]*y[8] + k[18]*y[2]*c[1]),\n",
    "            (-k[2]*y[0]*y[2] - k[9]*y[1]*y[2] - k[14]*y[2]**2 - k[15]*y[2]*y[3] - k[16]*y[2]*y[4] - k[17]*y[2]*y[5] - k[18]*y[2]*c[1] - k[19]*y[2]*y[8] + k[7]*y[0]*y[7] + k[12]*y[1]*c[0]),\n",
    "            (-k[3]*y[0]*y[3] - k[15]*y[2]*y[3] - k[20]*y[3] - k[21]*y[3]**2 - k[22]*y[3]*y[4] + k[23]*y[4]*c[0]),\n",
    "            (-k[4]*y[0]*y[4] - k[10]*y[1]*y[4] - k[16]*y[2]*y[4] - k[22]*y[3]*y[4] - k[23]*y[4]*c[0] + k[5]*y[0]*y[5] + k[6]*y[0]*y[6] + k[13]*y[1]*y[8] + k[19]*y[2]*y[8] + k[20]*y[3]),\n",
    "            (-k[5]*y[0]*y[5] - k[11]*y[1]*y[5] - k[17]*y[2]*y[5] - k[24]*y[5]*c[1] + k[0]*y[0]**2 + k[15]*y[2]*y[3] + k[21]*y[3]**2 + k[25]*y[6]),\n",
    "            (-k[6]*y[0]*y[6] - k[25]*y[6] + k[10]*y[1]*y[4] + k[16]*y[2]*y[4] + k[22]*y[3]*y[4] + k[24]*y[5]*c[1]),\n",
    "            (-k[7]*y[0]*y[7] + k[8]*y[1]**2 + k[9]*y[1]*y[2] + k[14]*y[2]**2),\n",
    "            (-k[13]*y[1]*y[8] - k[19]*y[2]*y[8] + k[3]*y[0]*y[3] + k[4]*y[0]*y[4] + k[21]*y[3]**2 + k[22]*y[3]*y[4])]\n",
    "    return dydt\n",
    "    \n",
    "#define timespan:\n",
    "tspan = np.arange(0,100,10)*1e6 #100 Ma, starting at 3800 Ma ago\n",
    "#initial values:\n",
    "yinit = np.array([0,0,0,0,0,])\n",
    "    "
   ]
  },
  {
   "cell_type": "code",
   "execution_count": 15,
   "metadata": {},
   "outputs": [
    {
     "data": {
      "text/plain": [
       "1327500.0"
      ]
     },
     "execution_count": 15,
     "metadata": {},
     "output_type": "execute_result"
    }
   ],
   "source": [
    "(2.95e-4)*4.5e9"
   ]
  },
  {
   "cell_type": "code",
   "execution_count": null,
   "metadata": {},
   "outputs": [],
   "source": []
  }
 ],
 "metadata": {
  "kernelspec": {
   "display_name": "Python 3",
   "language": "python",
   "name": "python3"
  },
  "language_info": {
   "codemirror_mode": {
    "name": "ipython",
    "version": 3
   },
   "file_extension": ".py",
   "mimetype": "text/x-python",
   "name": "python",
   "nbconvert_exporter": "python",
   "pygments_lexer": "ipython3",
   "version": "3.6.3"
  }
 },
 "nbformat": 4,
 "nbformat_minor": 2
}
